{
 "cells": [
  {
   "cell_type": "code",
   "execution_count": 1,
   "metadata": {},
   "outputs": [],
   "source": [
    "using Flux\n",
    "using Flux.Tracker\n",
    "using CSV, DataFrames\n",
    "using BSON\n",
    "using Missings"
   ]
  },
  {
   "cell_type": "code",
   "execution_count": 2,
   "metadata": {},
   "outputs": [
    {
     "name": "stdout",
     "output_type": "stream",
     "text": [
      "number of missing elements: 119\n",
      "number of missing elements: 0\n"
     ]
    }
   ],
   "source": [
    "# Processing the data\n",
    "f = CSV.read(\"./PressureData/small.csv\")\n",
    "\n",
    "Nw = 25                                      # Window size\n",
    "Nc = length(f)-1                             # Number of columns\n",
    "T = Int64(floor(length(f[:,1]) / Nw) * Nw)   # Number of data points\n",
    "\n",
    "# println(\"Nw: $Nw\\nNc: $Nc\\nT: $T\")\n",
    "\n",
    "s = Array{Float64, 2}(Nc*Nw,Int64(T/Nw))\n",
    "\n",
    "# count number of missing values\n",
    "num = 0\n",
    "for (name,col) in eachcol(f[:,2:Nc+1])\n",
    "    for i=1:length(col)\n",
    "        if ismissing(col[i])\n",
    "            num += 1\n",
    "        end\n",
    "    end\n",
    "end\n",
    "println(\"number of missing elements: $num\")\n",
    "\n",
    "# linear interpolation to estimate missing values\n",
    "for (name,col) in eachcol(f[:,2:Nc+1])\n",
    "    count = 0\n",
    "    for i=1:length(col)\n",
    "        if ismissing(col[i])\n",
    "            count += 1\n",
    "        end\n",
    "        if count != 0 && !ismissing(col[i])\n",
    "            dif = (col[i]-col[i-count-1]) / (count + 1)\n",
    "            for j = 1:count\n",
    "                col[i-count-1+j] = col[i-count-2+j] + dif\n",
    "            end\n",
    "            count = 0\n",
    "        end\n",
    "    end\n",
    "end\n",
    "\n",
    "# count number of missing values\n",
    "num = 0\n",
    "for (name,col) in eachcol(f[:,2:Nc+1])\n",
    "    for i=1:length(col)\n",
    "        if ismissing(col[i])\n",
    "            num += 1\n",
    "        end\n",
    "    end\n",
    "end\n",
    "println(\"number of missing elements: $num\")\n",
    "\n",
    "# convert raw data to input format\n",
    "for i = 1:Int64(T/Nw)\n",
    "    s[:,i] .= vec(convert(Array, f[Nw*(i-1)+1:Nw*i,2:Nc+1]))\n",
    "end"
   ]
  },
  {
   "cell_type": "code",
   "execution_count": 3,
   "metadata": {},
   "outputs": [
    {
     "data": {
      "text/plain": [
       "create (generic function with 1 method)"
      ]
     },
     "execution_count": 3,
     "metadata": {},
     "output_type": "execute_result"
    }
   ],
   "source": [
    "function create()\n",
    "    # common sub-expressions\n",
    "    Ncw = Nc * Nw\n",
    "    df1 = Int64(length(s[1,:]) / 2)\n",
    "    df2 = Int64(df1 / 97)\n",
    "    \n",
    "    # encoder weights saved to use in decoder weight creation\n",
    "    W1a = rand(df1,Ncw)\n",
    "    W2a = rand(df2, df1)\n",
    "    \n",
    "    # encoder\n",
    "    W1 = param(W1a)\n",
    "    b1 = param(rand(df1))\n",
    "    layer1(x) = W1 * x .+ b1\n",
    "\n",
    "    W2 = param(W2a)\n",
    "    b2 = param(rand(df2))\n",
    "    layer2(x) = W2 * x .+ b2\n",
    "\n",
    "    #decoder\n",
    "    W3 = param(W2a')\n",
    "    b3 = param(rand(df1))\n",
    "    layer3(x) = W3 * x .+ b3\n",
    "\n",
    "    W4 = param(W1a')\n",
    "    b4 = param(rand(Ncw))\n",
    "    layer4(x) = W4 * x .+ b4\n",
    "\n",
    "    m(x) = relu.(layer4(relu.(layer3(relu.(layer2(relu.(layer1(x))))))))\n",
    "    \n",
    "    return m\n",
    "\n",
    "end"
   ]
  },
  {
   "cell_type": "code",
   "execution_count": 4,
   "metadata": {},
   "outputs": [
    {
     "data": {
      "text/plain": [
       "loss (generic function with 1 method)"
      ]
     },
     "execution_count": 4,
     "metadata": {},
     "output_type": "execute_result"
    }
   ],
   "source": [
    "function loss(model,s,λ)\n",
    "    l = 0\n",
    "    for i = 1:Int64(T/Nw)\n",
    "        l += Flux.mse(s[:,i],model(s[:,i]))\n",
    "    end\n",
    "    \n",
    "    # regularization term\n",
    "    l += λ *(reduce(+, model.layer1.W1 .^ 2) + reduce(+, model.layer2.W2 .^ 2))\n",
    "        \n",
    "    return l\n",
    "end"
   ]
  },
  {
   "cell_type": "code",
   "execution_count": 5,
   "metadata": {},
   "outputs": [
    {
     "data": {
      "text/plain": [
       "update (generic function with 1 method)"
      ]
     },
     "execution_count": 5,
     "metadata": {},
     "output_type": "execute_result"
    }
   ],
   "source": [
    "function update(model, α)\n",
    "    model.layer1.W1.data .-= α * (model.layer1.W1.grad + model.layer4.W4.grad') #  \n",
    "    model.layer4.W4.data .-= α * (model.layer1.W1.grad' + model.layer4.W4.grad) # \n",
    "    \n",
    "    model.layer2.W2.data .-= α * (model.layer2.W2.grad + model.layer3.W3.grad') #  \n",
    "    model.layer3.W3.data .-= α * (model.layer2.W2.grad' + model.layer3.W3.grad) # \n",
    "    \n",
    "    model.layer1.b1.data .-= α * model.layer1.b1.grad\n",
    "    model.layer2.b2.data .-= α * model.layer2.b2.grad\n",
    "    model.layer3.b3.data .-= α * model.layer3.b3.grad\n",
    "    model.layer4.b4.data .-= α * model.layer4.b4.grad\n",
    "    \n",
    "    for i in fieldnames(model)\n",
    "        # layers\n",
    "        l = getfield(model, i)\n",
    "        for j in fieldnames(l)\n",
    "            # params\n",
    "            p = getfield(l, j)\n",
    "            # reset gradients\n",
    "            p.grad .= 0\n",
    "        end\n",
    "    end\n",
    "end"
   ]
  },
  {
   "cell_type": "code",
   "execution_count": 6,
   "metadata": {},
   "outputs": [
    {
     "data": {
      "text/plain": [
       "train (generic function with 1 method)"
      ]
     },
     "execution_count": 6,
     "metadata": {},
     "output_type": "execute_result"
    }
   ],
   "source": [
    "function train(model, s, loss_f)\n",
    "    l = loss(model, s, 0.1)\n",
    "    back!(l)\n",
    "    update(model, 0.1)\n",
    "    return l\n",
    "end"
   ]
  },
  {
   "cell_type": "code",
   "execution_count": 7,
   "metadata": {},
   "outputs": [
    {
     "name": "stdout",
     "output_type": "stream",
     "text": [
      "Iteration: 25\n",
      "   loss: 8.739561997210562e27 (tracked)\n",
      "Iteration: 50\n",
      "   loss: 3.182683496625697e27 (tracked)\n",
      "Iteration: 75\n",
      "   loss: 1.1590368307847268e27 (tracked)\n",
      "Iteration: 100\n",
      "   loss: 4.2208607187606e26 (tracked)\n",
      "Iteration: 125\n",
      "   loss: 1.537109497643326e26 (tracked)\n",
      "Iteration: 150\n",
      "   loss: 5.5976867401563945e25 (tracked)\n",
      "Iteration: 175\n",
      "   loss: 2.038507789390651e25 (tracked)\n",
      "Iteration: 200\n",
      "   loss: 7.423627295174894e24 (tracked)\n",
      "Iteration: 225\n",
      "   loss: 2.703459977169832e24 (tracked)\n",
      "Iteration: 250\n",
      "   loss: 9.845181550142624e23 (tracked)\n",
      "Iteration: 275\n",
      "   loss: 3.585316615515027e23 (tracked)\n",
      "Iteration: 300\n",
      "   loss: 1.3056636048831328e23 (tracked)\n",
      "Iteration: 325\n",
      "   loss: 4.754830972916822e22 (tracked)\n",
      "Iteration: 350\n",
      "   loss: 1.7315652742754356e22 (tracked)\n",
      "Iteration: 375\n",
      "   loss: 6.305835719828466e21 (tracked)\n",
      "Iteration: 400\n",
      "   loss: 2.296394176771849e21 (tracked)\n",
      "Iteration: 425\n",
      "   loss: 8.36277132708924e20 (tracked)\n",
      "Iteration: 450\n",
      "   loss: 3.045467758827814e20 (tracked)\n",
      "Iteration: 475\n",
      "   loss: 1.109067019447966e20 (tracked)\n",
      "Iteration: 500\n",
      "   loss: 4.038885816675495e19 (tracked)\n",
      "Iteration: 525\n",
      "   loss: 1.4708397557672237e19 (tracked)\n",
      "Iteration: 550\n",
      "   loss: 5.356352433172771e18 (tracked)\n",
      "Iteration: 575\n",
      "   loss: 1.9506211520235197e18 (tracked)\n",
      "Iteration: 600\n",
      "   loss: 7.103570809047085e17 (tracked)\n",
      "Iteration: 625\n",
      "   loss: 2.5869051090182582e17 (tracked)\n",
      "Iteration: 650\n",
      "   loss: 9.420724059783072e16 (tracked)\n",
      "Iteration: 675\n",
      "   loss: 3.4307420671541936e16 (tracked)\n",
      "Iteration: 700\n",
      "   loss: 1.2493722411709452e16 (tracked)\n",
      "Iteration: 725\n",
      "   loss: 4.549834894909352e15 (tracked)\n",
      "Iteration: 750\n",
      "   loss: 1.6569119192682155e15 (tracked)\n",
      "Iteration: 775\n",
      "   loss: 6.033970847123125e14 (tracked)\n",
      "Iteration: 800\n",
      "   loss: 2.1973892444505753e14 (tracked)\n",
      "Iteration: 825\n",
      "   loss: 8.002225495771931e13 (tracked)\n",
      "Iteration: 850\n",
      "   loss: 2.9141680127677875e13 (tracked)\n",
      "Iteration: 875\n",
      "   loss: 1.0612517469173082e13 (tracked)\n",
      "Iteration: 900\n",
      "   loss: 3.8647582315432373e12 (tracked)\n",
      "Iteration: 925\n",
      "   loss: 1.4074289086706863e12 (tracked)\n",
      "Iteration: 950\n",
      "   loss: 5.125440752914977e11 (tracked)\n",
      "Iteration: 975\n",
      "   loss: 1.866541518049854e11 (tracked)\n",
      "Iteration: 1000\n",
      "   loss: 6.797492262528734e10 (tracked)\n",
      "Iteration: 1025\n",
      "   loss: 2.4755545701931004e10 (tracked)\n",
      "Iteration: 1050\n",
      "   loss: 9.016359034187794e9 (tracked)\n",
      "Iteration: 1075\n",
      "   loss: 3.2846244605643353e9 (tracked)\n",
      "Iteration: 1100\n",
      "   loss: 1.1973005145436115e9 (tracked)\n",
      "Iteration: 1125\n",
      "   loss: 4.371604208830663e8 (tracked)\n",
      "Iteration: 1150\n",
      "   loss: 1.603404461533142e8 (tracked)\n",
      "Iteration: 1175\n",
      "   loss: 5.953100451425654e7 (tracked)\n",
      "Iteration: 1200\n",
      "   loss: 2.2819262402800005e7 (tracked)\n",
      "Iteration: 1225\n",
      "   loss: 9.449959022630146e6 (tracked)\n",
      "Iteration: 1250\n",
      "   loss: 4.581264087686074e6 (tracked)\n",
      "Iteration: 1275\n",
      "   loss: 2.808233010785725e6 (tracked)\n",
      "Iteration: 1300\n",
      "   loss: 2.1625488507264075e6 (tracked)\n",
      "Iteration: 1325\n",
      "   loss: 1.927410256720287e6 (tracked)\n",
      "Iteration: 1350\n",
      "   loss: 1.8417799101649437e6 (tracked)\n",
      "Iteration: 1375\n",
      "   loss: 1.8105959342541355e6 (tracked)\n",
      "Iteration: 1400\n",
      "   loss: 1.799239675722852e6 (tracked)\n"
     ]
    }
   ],
   "source": [
    "model = create()\n",
    "\n",
    "for i=1:1400\n",
    "    l = train(model, s, loss)\n",
    "    if i%25 == 0\n",
    "        println(\"Iteration: $i\\n   loss: $l\")\n",
    "    end\n",
    "end"
   ]
  },
  {
   "cell_type": "code",
   "execution_count": 11,
   "metadata": {},
   "outputs": [],
   "source": [
    "weights = Tracker.data.(params(model))\n",
    "using BSON: @save\n",
    "@save \"mymodel.bson\" weights"
   ]
  }
 ],
 "metadata": {
  "kernelspec": {
   "display_name": "Julia 0.6.2",
   "language": "julia",
   "name": "julia-0.6"
  },
  "language_info": {
   "file_extension": ".jl",
   "mimetype": "application/julia",
   "name": "julia",
   "version": "0.6.2"
  }
 },
 "nbformat": 4,
 "nbformat_minor": 2
}
