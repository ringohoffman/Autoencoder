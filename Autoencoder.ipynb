{
 "cells": [
  {
   "cell_type": "code",
   "execution_count": 1,
   "metadata": {},
   "outputs": [],
   "source": [
    "using Flux\n",
    "using Flux.Tracker\n",
    "using CSV, DataFrames\n",
    "using Missings"
   ]
  },
  {
   "cell_type": "code",
   "execution_count": 2,
   "metadata": {},
   "outputs": [
    {
     "name": "stdout",
     "output_type": "stream",
     "text": [
      "number of missing elements: 119\n",
      "number of missing elements: 0\n"
     ]
    }
   ],
   "source": [
    "# Processing the data\n",
    "f = CSV.read(\"./PressureData/small.csv\")\n",
    "\n",
    "Nw = 25                                      # Window size\n",
    "Nc = length(f)-1                             # Number of columns\n",
    "T = Int64(floor(length(f[:,1]) / Nw) * Nw)   # Number of data points\n",
    "\n",
    "# println(\"Nw: $Nw\\nNc: $Nc\\nT: $T\")\n",
    "\n",
    "s = Array{Float64, 2}(Nc*Nw,Int64(T/Nw))\n",
    "\n",
    "# count number of missing values\n",
    "num = 0\n",
    "for (name,col) in eachcol(f[:,2:Nc+1])\n",
    "    for i=1:length(col)\n",
    "        if ismissing(col[i])\n",
    "            num += 1\n",
    "        end\n",
    "    end\n",
    "end\n",
    "println(\"number of missing elements: $num\")\n",
    "\n",
    "# linear interpolation to estimate missing values\n",
    "for (name,col) in eachcol(f[:,2:Nc+1])\n",
    "    count = 0\n",
    "    for i=1:length(col)\n",
    "        if ismissing(col[i])\n",
    "            count += 1\n",
    "        end\n",
    "        if count != 0 && !ismissing(col[i])\n",
    "            dif = (col[i]-col[i-count-1]) / (count + 1)\n",
    "            for j = 1:count\n",
    "                col[i-count-1+j] = col[i-count-2+j] + dif\n",
    "            end\n",
    "            count = 0\n",
    "        end\n",
    "    end\n",
    "end\n",
    "\n",
    "# count number of missing values\n",
    "num = 0\n",
    "for (name,col) in eachcol(f[:,2:Nc+1])\n",
    "    for i=1:length(col)\n",
    "        if ismissing(col[i])\n",
    "            num += 1\n",
    "        end\n",
    "    end\n",
    "end\n",
    "println(\"number of missing elements: $num\")\n",
    "\n",
    "# convert raw data to input format\n",
    "for i = 1:Int64(T/Nw)\n",
    "    s[:,i] .= vec(convert(Array, f[Nw*(i-1)+1:Nw*i,2:Nc+1]))\n",
    "end"
   ]
  },
  {
   "cell_type": "code",
   "execution_count": 3,
   "metadata": {},
   "outputs": [
    {
     "data": {
      "text/plain": [
       "create (generic function with 1 method)"
      ]
     },
     "execution_count": 3,
     "metadata": {},
     "output_type": "execute_result"
    }
   ],
   "source": [
    "function create()\n",
    "    # common sub-expressions\n",
    "    Ncw = Nc * Nw\n",
    "    df1 = Int64(length(s[1,:]) / 2)\n",
    "    df2 = Int64(df1 / 97)\n",
    "    \n",
    "    # encoder weights saved to use in decoder weight creation\n",
    "    W1a = rand(df1,Ncw)\n",
    "    W2a = rand(df2, df1)\n",
    "    \n",
    "    # encoder\n",
    "    W1 = param(W1a)\n",
    "    b1 = param(rand(df1))\n",
    "    layer1(x) = W1 * x .+ b1\n",
    "\n",
    "    W2 = param(W2a)\n",
    "    b2 = param(rand(df2))\n",
    "    layer2(x) = W2 * x .+ b2\n",
    "\n",
    "    #decoder\n",
    "    W3 = param(W2a')\n",
    "    b3 = param(rand(df1))\n",
    "    layer3(x) = W3 * x .+ b3\n",
    "\n",
    "    W4 = param(W1a')\n",
    "    b4 = param(rand(Ncw))\n",
    "    layer4(x) = W4 * x .+ b4\n",
    "\n",
    "    m(x) = relu.(layer4(relu.(layer3(relu.(layer2(relu.(layer1(x))))))))\n",
    "    \n",
    "    return m\n",
    "\n",
    "end"
   ]
  },
  {
   "cell_type": "code",
   "execution_count": 4,
   "metadata": {},
   "outputs": [
    {
     "data": {
      "text/plain": [
       "loss (generic function with 1 method)"
      ]
     },
     "execution_count": 4,
     "metadata": {},
     "output_type": "execute_result"
    }
   ],
   "source": [
    "function loss(model,s,λ)\n",
    "    l = 0\n",
    "    for i = 1:Int64(T/Nw)\n",
    "        l += Flux.mse(s[:,i],model(s[:,i]))\n",
    "    end\n",
    "    \n",
    "    # regularization term\n",
    "    l += λ *(reduce(+, model.layer1.W1 .^ 2) + reduce(+, model.layer2.W2 .^ 2))\n",
    "        \n",
    "    return l\n",
    "end"
   ]
  },
  {
   "cell_type": "code",
   "execution_count": 5,
   "metadata": {},
   "outputs": [
    {
     "data": {
      "text/plain": [
       "update (generic function with 1 method)"
      ]
     },
     "execution_count": 5,
     "metadata": {},
     "output_type": "execute_result"
    }
   ],
   "source": [
    "function update(model, α)\n",
    "    model.layer1.W1.data .-= α * (model.layer1.W1.grad + model.layer4.W4.grad') #  \n",
    "    model.layer4.W4.data .-= α * (model.layer1.W1.grad' + model.layer4.W4.grad) # \n",
    "    \n",
    "    model.layer2.W2.data .-= α * (model.layer2.W2.grad + model.layer3.W3.grad') #  \n",
    "    model.layer3.W3.data .-= α * (model.layer2.W2.grad' + model.layer3.W3.grad) # \n",
    "    \n",
    "    model.layer1.b1.data .-= α * model.layer1.b1.grad\n",
    "    model.layer2.b2.data .-= α * model.layer2.b2.grad\n",
    "    model.layer3.b3.data .-= α * model.layer3.b3.grad\n",
    "    model.layer4.b4.data .-= α * model.layer4.b4.grad\n",
    "end"
   ]
  },
  {
   "cell_type": "code",
   "execution_count": 14,
   "metadata": {},
   "outputs": [
    {
     "data": {
      "text/plain": [
       "train (generic function with 1 method)"
      ]
     },
     "execution_count": 14,
     "metadata": {},
     "output_type": "execute_result"
    }
   ],
   "source": [
    "function train(model, s, loss_f)\n",
    "    l = loss(model, s, 0.1)\n",
    "    println(\"   loss: $l\")\n",
    "    back!(l)\n",
    "    update(model, 0.01)\n",
    "end"
   ]
  },
  {
   "cell_type": "code",
   "execution_count": null,
   "metadata": {},
   "outputs": [],
   "source": [
    "model = create()\n",
    "\n",
    "for i=1:1e4\n",
    "    println(\"Iteration: $i\")\n",
    "    train(model, s, loss)\n",
    "end"
   ]
  }
 ],
 "metadata": {
  "kernelspec": {
   "display_name": "Julia 0.6.2",
   "language": "julia",
   "name": "julia-0.6"
  },
  "language_info": {
   "file_extension": ".jl",
   "mimetype": "application/julia",
   "name": "julia",
   "version": "0.6.2"
  }
 },
 "nbformat": 4,
 "nbformat_minor": 2
}
