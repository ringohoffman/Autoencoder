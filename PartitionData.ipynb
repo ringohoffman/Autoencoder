{
 "cells": [
  {
   "cell_type": "code",
   "execution_count": 1,
   "metadata": {},
   "outputs": [],
   "source": [
    "using CSV: read, write\n",
    "using DataFrames: eachcol\n",
    "using Missings: ismissing"
   ]
  },
  {
   "cell_type": "code",
   "execution_count": 2,
   "metadata": {},
   "outputs": [
    {
     "name": "stdout",
     "output_type": "stream",
     "text": [
      "number of missing elements: 2332\n",
      "number of missing elements: 0\n"
     ]
    }
   ],
   "source": [
    "# Processing the data\n",
    "f = CSV.read(\"./PressureData/Stations_2018.csv\")\n",
    "Nw = 25                                      # Window size\n",
    "Nc = length(f)-1                             # Number of columns\n",
    "T = Int64(floor(length(f[:,1]) / Nw) * Nw)   # Number of data points\n",
    "s = Array{Float64, 2}(Nc*Nw,Int64(T/Nw))\n",
    "\n",
    "# count number of missing values\n",
    "num = 0\n",
    "for (name,col) in eachcol(f[:,2:Nc+1])\n",
    "    for i=1:length(col)\n",
    "        if ismissing(col[i])\n",
    "            num += 1\n",
    "        end\n",
    "    end\n",
    "end\n",
    "println(\"number of missing elements: $num\")\n",
    "\n",
    "# linear interpolation to estimate missing values\n",
    "for (name,col) in eachcol(f[:,2:Nc+1])\n",
    "    count = 0\n",
    "    for i=1:length(col)\n",
    "        if ismissing(col[i])\n",
    "            count += 1\n",
    "        end\n",
    "        if count != 0 && !ismissing(col[i])\n",
    "            dif = (col[i]-col[i-count-1]) / (count + 1)\n",
    "            for j = 1:count\n",
    "                col[i-count-1+j] = col[i-count-2+j] + dif\n",
    "            end\n",
    "            count = 0\n",
    "        end\n",
    "    end\n",
    "end\n",
    "\n",
    "# count number of missing values\n",
    "num = 0\n",
    "for (name,col) in eachcol(f[:,2:Nc+1])\n",
    "    for i=1:length(col)\n",
    "        if ismissing(col[i])\n",
    "            num += 1\n",
    "        end\n",
    "    end\n",
    "end\n",
    "println(\"number of missing elements: $num\")"
   ]
  },
  {
   "cell_type": "code",
   "execution_count": 3,
   "metadata": {},
   "outputs": [
    {
     "name": "stdout",
     "output_type": "stream",
     "text": [
      "complete\n"
     ]
    }
   ],
   "source": [
    "# partition into 19 parts: 3 validation & 16 training\n",
    "part = Int64(T / 19)\n",
    "\n",
    "for i in 1:3\n",
    "    df = f[part*(i-1)+1:part*i, :]\n",
    "    CSV.write(\"./PressureData/Valid/valid$i.csv\", df)\n",
    "end\n",
    "\n",
    "for i in 4:19\n",
    "    df = f[part*(i-1)+1:part*i, :]\n",
    "    CSV.write(\"./PressureData/Train/train$i.csv\", df)\n",
    "end\n",
    "\n",
    "println(\"complete\")"
   ]
  }
 ],
 "metadata": {
  "kernelspec": {
   "display_name": "Julia 0.6.2",
   "language": "julia",
   "name": "julia-0.6"
  },
  "language_info": {
   "file_extension": ".jl",
   "mimetype": "application/julia",
   "name": "julia",
   "version": "0.6.2"
  }
 },
 "nbformat": 4,
 "nbformat_minor": 2
}
